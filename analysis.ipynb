import tskit
ts = tskit.load("trees.trees")
print(ts)
